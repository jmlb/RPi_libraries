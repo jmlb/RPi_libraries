{
 "cells": [
  {
   "cell_type": "markdown",
   "metadata": {},
   "source": [
    "## Reconstruction of input vector via Gradient Descent\n",
    "\n",
    "\n",
    "In this notebook, we will show how to reconstruct the input `x` when disturbing the output `y` and using the weight `W` and the bias `b`. We consider a linear activation, with a forward pass:\n",
    "\n",
    "`y = Wx + b`\n",
    "\n",
    "Once we trained the model and get the optimized `W` and `b`, instead of predict the output `y` from the input `x`, we propose a different approach that enables to study the effect of the output on the input. For example, what value of `x` will generate the ouput value `y0`.\n",
    "\n",
    "Here is the procedure we use - let's consider an output value `y0` and let's predict the value `x0` where :\n",
    "\n",
    "`y0 = Wx0 + b`\n",
    "\n",
    "Taking `W` and `b` as fixed parameters, obtained from the training process. `x`is the only fitting parameter.\n",
    "\n",
    "1) We calculate the cost as: \n",
    "\n",
    "`cost_ = ( y0 - ypred)**2`\n",
    "\n",
    "where `ypred` is the predicted value when using a value `x`.\n",
    "\n",
    "\n",
    "2) We then calculate the gradient:\n",
    "\n",
    "`d cost/ dx`\n",
    "\n",
    "\n",
    "3) and update the value of x: \n",
    "\n",
    "`x -= lr * grad_x`\n",
    " \n"
   ]
  },
  {
   "cell_type": "code",
   "execution_count": 4,
   "metadata": {
    "collapsed": false
   },
   "outputs": [],
   "source": [
    "#import required library\n",
    "import numpy as np\n",
    "from keras.models import Sequential\n",
    "from keras.layers import Dense\n",
    "import keras.backend as K\n",
    "import tensorflow as tf\n",
    "K.clear_session()\n",
    "from matplotlib import pyplot as plt"
   ]
  },
  {
   "cell_type": "code",
   "execution_count": 5,
   "metadata": {
    "collapsed": false
   },
   "outputs": [
    {
     "data": {
      "image/png": "[encoded data removed]",
      "text/plain": [
       "<matplotlib.figure.Figure at 0x7f7281e9c7b8>"
      ]
     },
     "metadata": {},
     "output_type": "display_data"
    }
   ],
   "source": [
    "#Build dataset\n",
    "x_train = np.random.uniform(low=0, high=1000, size=(100, 1))\n",
    "y_train = np.array([0.4 * i -50 * np.random.random() for i in x_train])\n",
    "\n",
    "#Visualize data\n",
    "plt.scatter(x_train, y_train)\n",
    "plt.title(\"Training dataset - Linear\")\n",
    "plt.xlabel(\"x_train\")\n",
    "plt.ylabel(\"y_train\")\n",
    "plt.show()"
   ]
  },
  {
   "cell_type": "code",
   "execution_count": 6,
   "metadata": {
    "collapsed": false
   },
   "outputs": [
    {
     "name": "stdout",
     "output_type": "stream",
     "text": [
      "_________________________________________________________________\n",
      "Layer (type)                 Output Shape              Param #   \n",
      "=================================================================\n",
      "dense_1 (Dense)              (None, 1)                 2         \n",
      "=================================================================\n",
      "Total params: 2\n",
      "Trainable params: 2\n",
      "Non-trainable params: 0\n",
      "_________________________________________________________________\n"
     ]
    }
   ],
   "source": [
    "#Train the a simple model to fit the dataset and extract W and bias\n",
    "\n",
    "model = Sequential()\n",
    "model.add(Dense(units=1, input_shape=(1, )) )\n",
    "# now the model will take as input arrays of shape (*, 1)\n",
    "# and output arrays of shape (*, 1)\n",
    "model.compile(loss=\"mse\", optimizer=\"adam\")\n",
    "model.fit(x_train, y_train, epochs=100000, batch_size=100, verbose=0)\n",
    "model.summary()"
   ]
  },
  {
   "cell_type": "code",
   "execution_count": 7,
   "metadata": {
    "collapsed": false
   },
   "outputs": [
    {
     "name": "stdout",
     "output_type": "stream",
     "text": [
      "Weight 0.40204986929893494 | Bias: -25.4401912689209\n"
     ]
    },
    {
     "data": {
      "image/png": "[encoded data removed]",
      "text/plain": [
       "<matplotlib.figure.Figure at 0x7f727c406d68>"
      ]
     },
     "metadata": {},
     "output_type": "display_data"
    }
   ],
   "source": [
    "# Plot the data and the best fit \n",
    "\n",
    "for layer in model.layers:\n",
    "    weight = layer.get_weights()[0][0,0]\n",
    "    bias = K.get_value(layer.bias[0])\n",
    "    print(\"Weight {} | Bias: {}\".format(weight, bias) )\n",
    "\n",
    "x_test =  x_train  \n",
    "pred_y_test = model.predict(x_test)\n",
    "plt.scatter(x_train, y_train)\n",
    "plt.plot(x_test, pred_y_test, c=\"r\")\n",
    "plt.show()"
   ]
  },
  {
   "cell_type": "markdown",
   "metadata": {},
   "source": [
    "## Reconstruction of input `x0`\n",
    "\n",
    "Let's see what the input `x0` is when we fix the output `y0=100`.\n",
    "\n",
    "1) Initialize `x` to be 1\n",
    "2) Compute forward pass: `y = Wx + b`\n",
    "3) Calculate the gradient\n",
    "4) Update the value of `x = x - lr * grad_x`\n",
    "\n",
    "We iterate this update multiple times until convergence."
   ]
  },
  {
   "cell_type": "code",
   "execution_count": 8,
   "metadata": {
    "collapsed": false
   },
   "outputs": [
    {
     "name": "stdout",
     "output_type": "stream",
     "text": [
      "Iteration: 0 | x value: [[ 41.21725464]]\n",
      "Iteration: 5 | x value: [[ 176.50506592]]\n",
      "Iteration: 10 | x value: [[ 244.20111084]]\n",
      "Iteration: 15 | x value: [[ 278.07522583]]\n",
      "Iteration: 20 | x value: [[ 295.02532959]]\n",
      "Iteration: 25 | x value: [[ 303.50689697]]\n",
      "Iteration: 30 | x value: [[ 307.75097656]]\n",
      "Iteration: 35 | x value: [[ 309.87463379]]\n",
      "Iteration: 40 | x value: [[ 310.93728638]]\n",
      "Iteration: 45 | x value: [[ 311.46905518]]\n",
      "Iteration: 50 | x value: [[ 311.73513794]]\n",
      "Iteration: 55 | x value: [[ 311.86825562]]\n",
      "Iteration: 60 | x value: [[ 311.93487549]]\n",
      "Iteration: 65 | x value: [[ 311.96820068]]\n",
      "Iteration: 70 | x value: [[ 311.98483276]]\n",
      "Iteration: 75 | x value: [[ 311.9932251]]\n",
      "Iteration: 80 | x value: [[ 311.99737549]]\n",
      "Iteration: 85 | x value: [[ 311.9994812]]\n",
      "Iteration: 90 | x value: [[ 312.00054932]]\n",
      "Iteration: 95 | x value: [[ 312.00106812]]\n",
      "Iteration: 100 | x value: [[ 312.00131226]]\n",
      "Iteration: 105 | x value: [[ 312.00146484]]\n",
      "Iteration: 110 | x value: [[ 312.00146484]]\n",
      "Iteration: 115 | x value: [[ 312.00146484]]\n",
      "Iteration: 120 | x value: [[ 312.00146484]]\n",
      "Iteration: 125 | x value: [[ 312.00146484]]\n",
      "Iteration: 130 | x value: [[ 312.00146484]]\n",
      "Iteration: 135 | x value: [[ 312.00146484]]\n",
      "Iteration: 140 | x value: [[ 312.00146484]]\n",
      "Iteration: 145 | x value: [[ 312.00146484]]\n",
      "Iteration: 150 | x value: [[ 312.00146484]]\n",
      "Iteration: 155 | x value: [[ 312.00146484]]\n",
      "Iteration: 160 | x value: [[ 312.00146484]]\n",
      "Iteration: 165 | x value: [[ 312.00146484]]\n",
      "Iteration: 170 | x value: [[ 312.00146484]]\n",
      "Iteration: 175 | x value: [[ 312.00146484]]\n",
      "Iteration: 180 | x value: [[ 312.00146484]]\n",
      "Iteration: 185 | x value: [[ 312.00146484]]\n",
      "Iteration: 190 | x value: [[ 312.00146484]]\n",
      "Iteration: 195 | x value: [[ 312.00146484]]\n",
      "Iteration: 199 | x value: [[ 312.00146484]]\n"
     ]
    },
    {
     "data": {
      "image/png": "[encoded data removed]",
      "text/plain": [
       "<matplotlib.figure.Figure at 0x7f727899ae80>"
      ]
     },
     "metadata": {},
     "output_type": "display_data"
    }
   ],
   "source": [
    "def total_loss(y_mod, y_pred):\n",
    "    cost_ = K.square(y_mod - y_pred)\n",
    "    return cost_\n",
    "\n",
    "#\n",
    "x = np.array([1.])\n",
    "x = x.reshape( (1, 1) )\n",
    "w = weight.reshape((1, 1))\n",
    "bias = bias.reshape((1, 1))\n",
    "y0 = np.array([[100.]])\n",
    "x_tensor = tf.convert_to_tensor(x, np.float32)\n",
    "w_tensor = tf.convert_to_tensor(w, np.float32)\n",
    "b_tensor = tf.convert_to_tensor(bias, np.float32)\n",
    "\n",
    "y0_tensor = tf.convert_to_tensor(y0, np.float32 )\n",
    "x_summary = []\n",
    "n_iter = 200\n",
    "for iteration in range(n_iter):\n",
    "    y_pred = K.dot(x_tensor, w_tensor) + b_tensor\n",
    "    cost_ = total_loss(y0_tensor, y_pred)\n",
    "    grads = K.gradients(cost_, x_tensor)[0]\n",
    "    loss = K.mean(cost_)\n",
    "    lr = K.variable(0.4)\n",
    "    x_tensor -= lr * grads\n",
    "    x_summary.append(K.get_value(x_tensor)[0,0])\n",
    "    if (iteration % 5 == 0) or (iteration==n_iter-1):\n",
    "        print(\"Iteration: {} | x value: {}\".format(iteration, K.get_value(x_tensor)))\n",
    "\n",
    "    x0 =  K.get_value(x_tensor)[0, 0]\n"
   ]
  },
  {
   "cell_type": "code",
   "execution_count": 9,
   "metadata": {
    "collapsed": false
   },
   "outputs": [
    {
     "data": {
      "image/png": "[encoded data removed]",
      "text/plain": [
       "<matplotlib.figure.Figure at 0x7f72789824a8>"
      ]
     },
     "metadata": {},
     "output_type": "display_data"
    }
   ],
   "source": [
    "plt.scatter( np.arange(0, n_iter, 1 ), x_summary)\n",
    "plt.xlabel(\"iterations\")\n",
    "plt.ylabel(\"value of x0\")\n",
    "plt.show()"
   ]
  },
  {
   "cell_type": "code",
   "execution_count": 12,
   "metadata": {
    "collapsed": false
   },
   "outputs": [
    {
     "data": {
      "image/png": "[encoded data removed]",
      "text/plain": [
       "<matplotlib.figure.Figure at 0x7f71d1b40128>"
      ]
     },
     "metadata": {},
     "output_type": "display_data"
    }
   ],
   "source": [
    "plt.scatter(x_train, y_train, c=\"blue\")\n",
    "plt.plot(x_test, pred_y_test, c=\"r\")\n",
    "plt.scatter([x0], [y0[0,0]], c='orange', s=200)\n",
    "plt.xlabel(\"x data\")\n",
    "plt.ylabel(\"y data\")\n",
    "plt.show()"
   ]
  },
  {
   "cell_type": "code",
   "execution_count": null,
   "metadata": {
    "collapsed": true
   },
   "outputs": [],
   "source": []
  }
 ],
 "metadata": {
  "kernelspec": {
   "display_name": "Python 3",
   "language": "python",
   "name": "python3"
  },
  "language_info": {
   "codemirror_mode": {
    "name": "ipython",
    "version": 3
   },
   "file_extension": ".py",
   "mimetype": "text/x-python",
   "name": "python",
   "nbconvert_exporter": "python",
   "pygments_lexer": "ipython3",
   "version": "3.5.2"
  }
 },
 "nbformat": 4,
 "nbformat_minor": 2
}
