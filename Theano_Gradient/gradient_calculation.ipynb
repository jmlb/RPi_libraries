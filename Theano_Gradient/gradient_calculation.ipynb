{
 "cells": [
  {
   "cell_type": "code",
   "execution_count": null,
   "metadata": {
    "collapsed": true
   },
   "outputs": [],
   "source": []
  },
  {
   "cell_type": "code",
   "execution_count": 17,
   "metadata": {
    "collapsed": false
   },
   "outputs": [
    {
     "data": {
      "text/plain": [
       "'(((fill((((a ** TensorConstant{2}) * x) + b), TensorConstant{1.0}) * x) * TensorConstant{2}) * (a ** (TensorConstant{2} - TensorConstant{1})))'"
      ]
     },
     "execution_count": 17,
     "metadata": {},
     "output_type": "execute_result"
    }
   ],
   "source": [
    "import numpy\n",
    "import theano\n",
    "import theano.tensor as T\n",
    "from theano import pp\n",
    "\n",
    "x = T.dscalar('x')\n",
    "a = T.dscalar('a')\n",
    "b = T.dscalar('b')\n",
    "y = (a**2)*x + b\n",
    "ga = T.grad(y, a)\n",
    "gb = T.grad(y, b)\n",
    "pp(ga) # print out the gradient prior to optimization\n",
    "\n",
    "#f = theano.function([a, b, x], ga)\n",
    "#f(2, 1, 2 )"
   ]
  },
  {
   "cell_type": "code",
   "execution_count": 22,
   "metadata": {
    "collapsed": false
   },
   "outputs": [
    {
     "name": "stdout",
     "output_type": "stream",
     "text": [
      "('c', 0)\n",
      "(' ', 1)\n",
      "('e', 2)\n",
      "('b', 3)\n",
      "('a', 4)\n"
     ]
    }
   ],
   "source": [
    "a = ['a', 'b', 'a', 'c', 'b', 'e', 'e', 'e']\n",
    "f = set(' '.join(a))\n",
    "c = zip(f, range(len(f)))\n",
    "for d in c:\n",
    "    print(d)"
   ]
  },
  {
   "cell_type": "code",
   "execution_count": null,
   "metadata": {
    "collapsed": true
   },
   "outputs": [],
   "source": []
  }
 ],
 "metadata": {
  "kernelspec": {
   "display_name": "Python 3",
   "language": "python",
   "name": "python3"
  },
  "language_info": {
   "codemirror_mode": {
    "name": "ipython",
    "version": 3
   },
   "file_extension": ".py",
   "mimetype": "text/x-python",
   "name": "python",
   "nbconvert_exporter": "python",
   "pygments_lexer": "ipython3",
   "version": "3.5.2"
  }
 },
 "nbformat": 4,
 "nbformat_minor": 2
}
